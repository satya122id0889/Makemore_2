{
  "nbformat": 4,
  "nbformat_minor": 0,
  "metadata": {
    "colab": {
      "provenance": []
    },
    "kernelspec": {
      "name": "python3",
      "display_name": "Python 3"
    },
    "language_info": {
      "name": "python"
    }
  },
  "cells": [
    {
      "cell_type": "code",
      "execution_count": 52,
      "metadata": {
        "id": "V5GXQCH1K9SI"
      },
      "outputs": [],
      "source": [
        "import torch\n",
        "import torch.nn.functional as F\n",
        "import matplotlib.pyplot as plt #for making figures\n",
        "%matplotlib inline\n"
      ]
    },
    {
      "cell_type": "code",
      "source": [
        "# Load the Drive helper and mount\n",
        "from google.colab import drive\n",
        "drive.mount('/content/drive')"
      ],
      "metadata": {
        "colab": {
          "base_uri": "https://localhost:8080/"
        },
        "id": "r21GDS89KQp-",
        "outputId": "5244dfdf-701e-4d86-f2c9-99140b768233"
      },
      "execution_count": 53,
      "outputs": [
        {
          "output_type": "stream",
          "name": "stdout",
          "text": [
            "Drive already mounted at /content/drive; to attempt to forcibly remount, call drive.mount(\"/content/drive\", force_remount=True).\n"
          ]
        }
      ]
    },
    {
      "cell_type": "code",
      "source": [
        "!ls /content/drive/MyDrive/names.txt"
      ],
      "metadata": {
        "colab": {
          "base_uri": "https://localhost:8080/"
        },
        "id": "yV77KIJEKkAr",
        "outputId": "7ff28ca5-71df-43a9-d3ee-1de23343eccb"
      },
      "execution_count": 54,
      "outputs": [
        {
          "output_type": "stream",
          "name": "stdout",
          "text": [
            "/content/drive/MyDrive/names.txt\n"
          ]
        }
      ]
    },
    {
      "cell_type": "code",
      "source": [
        "# read in all the words\n",
        "words = open('/content/drive/MyDrive/names.txt', \"r\" , ).read().splitlines()"
      ],
      "metadata": {
        "id": "9GK_IG6kJQn1"
      },
      "execution_count": 55,
      "outputs": []
    },
    {
      "cell_type": "code",
      "source": [
        "words[:8]"
      ],
      "metadata": {
        "colab": {
          "base_uri": "https://localhost:8080/"
        },
        "id": "kJogoEh3LUS7",
        "outputId": "8c5fd811-3e1e-4896-e135-853505e0d4c6"
      },
      "execution_count": 56,
      "outputs": [
        {
          "output_type": "execute_result",
          "data": {
            "text/plain": [
              "['emma', 'olivia', 'ava', 'isabella', 'sophia', 'charlotte', 'mia', 'amelia']"
            ]
          },
          "metadata": {},
          "execution_count": 56
        }
      ]
    },
    {
      "cell_type": "code",
      "source": [
        "len(words)"
      ],
      "metadata": {
        "colab": {
          "base_uri": "https://localhost:8080/"
        },
        "id": "5YHXixU3LgIG",
        "outputId": "e759e0d1-d3a0-4521-abde-060290e4c607"
      },
      "execution_count": 57,
      "outputs": [
        {
          "output_type": "execute_result",
          "data": {
            "text/plain": [
              "32033"
            ]
          },
          "metadata": {},
          "execution_count": 57
        }
      ]
    },
    {
      "cell_type": "code",
      "source": [
        "#build vocabulary of characters and mappings to/from integers\n",
        "\n",
        "chars = sorted(list(set(''.join(words))))\n",
        "stoi = { s:i+1 for i,s in enumerate(chars)}\n",
        "stoi['.'] = 0\n",
        "itos = { i:s for s,i in stoi.items()}\n",
        "print(itos)"
      ],
      "metadata": {
        "colab": {
          "base_uri": "https://localhost:8080/"
        },
        "id": "VagaHzPaLjtK",
        "outputId": "2d776fd5-5ffe-4633-cb7f-bbaa62032172"
      },
      "execution_count": 58,
      "outputs": [
        {
          "output_type": "stream",
          "name": "stdout",
          "text": [
            "{1: 'a', 2: 'b', 3: 'c', 4: 'd', 5: 'e', 6: 'f', 7: 'g', 8: 'h', 9: 'i', 10: 'j', 11: 'k', 12: 'l', 13: 'm', 14: 'n', 15: 'o', 16: 'p', 17: 'q', 18: 'r', 19: 's', 20: 't', 21: 'u', 22: 'v', 23: 'w', 24: 'x', 25: 'y', 26: 'z', 0: '.'}\n"
          ]
        }
      ]
    },
    {
      "cell_type": "code",
      "source": [
        "#build the dataset\n",
        "\n",
        "block_size = 3 #context length:how many characters do we take\n",
        "\n",
        "X,Y = [] , []\n",
        "\n",
        "for w in words:\n",
        "\n",
        "  #print(w)\n",
        "  context = [0] * block_size\n",
        "\n",
        "  for ch in w +'.':\n",
        "\n",
        "    ix = stoi[ch]\n",
        "    X.append(context)\n",
        "    Y.append(ix)\n",
        "    #print(''.join(itos[i] for i in context), '---->' , itos[ix])\n",
        "    context = context[1:] + [ix] #crop and append\n",
        "\n",
        "X = torch.tensor(X)\n",
        "Y = torch.tensor(Y)"
      ],
      "metadata": {
        "id": "bMvTFdhHM1iY"
      },
      "execution_count": 59,
      "outputs": []
    },
    {
      "cell_type": "code",
      "source": [
        "#build the dataset\n",
        "\n",
        "def build_dataset(words):\n",
        "\n",
        "    block_size = 3 #context length:how many characters do we take\n",
        "\n",
        "    X,Y = [] , []\n",
        "\n",
        "    for w in words:\n",
        "\n",
        "      #print(w)\n",
        "      context = [0] * block_size\n",
        "\n",
        "      for ch in w +'.':\n",
        "\n",
        "        ix = stoi[ch]\n",
        "        X.append(context)\n",
        "        Y.append(ix)\n",
        "        #print(''.join(itos[i] for i in context), '---->' , itos[ix])\n",
        "        context = context[1:] + [ix] #crop and append\n",
        "\n",
        "    X = torch.tensor(X)\n",
        "    Y = torch.tensor(Y)\n",
        "    print(X.shape , Y.shape )\n",
        "    return X , Y\n",
        "\n",
        "import random\n",
        "random.seed(42)\n",
        "random.shuffle(words)\n",
        "n1 = int(0.8 * len(words))\n",
        "n2 = int(0.9 * len(words))\n",
        "\n",
        "Xtr , Ytr = build_dataset(words[:n1])\n",
        "Xdev , Ydev = build_dataset(words[n1:n2])\n",
        "Xte , Yte = build_dataset(words[n2:])\n",
        "\n"
      ],
      "metadata": {
        "colab": {
          "base_uri": "https://localhost:8080/"
        },
        "id": "o5GpiZEonMaI",
        "outputId": "c2c0099d-5a7b-492b-8e83-0f8be774660b"
      },
      "execution_count": 60,
      "outputs": [
        {
          "output_type": "stream",
          "name": "stdout",
          "text": [
            "torch.Size([182625, 3]) torch.Size([182625])\n",
            "torch.Size([22655, 3]) torch.Size([22655])\n",
            "torch.Size([22866, 3]) torch.Size([22866])\n"
          ]
        }
      ]
    },
    {
      "cell_type": "code",
      "source": [
        "# --------- make it more respectable -----------"
      ],
      "metadata": {
        "id": "DJQTrpFCKEGo"
      },
      "execution_count": 61,
      "outputs": []
    },
    {
      "cell_type": "code",
      "source": [
        "Xtr.shape , Xtr.dtype , Ytr.shape , Ytr.dtype"
      ],
      "metadata": {
        "colab": {
          "base_uri": "https://localhost:8080/"
        },
        "id": "uYhcP3imQYyc",
        "outputId": "608e43c9-f684-4ab0-83b4-174f5e5b0475"
      },
      "execution_count": 62,
      "outputs": [
        {
          "output_type": "execute_result",
          "data": {
            "text/plain": [
              "(torch.Size([182625, 3]), torch.int64, torch.Size([182625]), torch.int64)"
            ]
          },
          "metadata": {},
          "execution_count": 62
        }
      ]
    },
    {
      "cell_type": "code",
      "source": [
        "g = torch.Generator().manual_seed(2147483647)\n",
        "C = torch.randn((27 , 10) , generator = g)\n",
        "W1 = torch.randn((30 , 200) , generator = g)\n",
        "b1 = torch.randn(200 , generator = g)\n",
        "W2 = torch.randn((200 , 27) , generator = g)\n",
        "b2 = torch.randn(27 , generator = g)\n",
        "parameters = [C , W1 , b1 , W2 , b2]"
      ],
      "metadata": {
        "id": "VPIhlhW-MI52"
      },
      "execution_count": 63,
      "outputs": []
    },
    {
      "cell_type": "code",
      "source": [
        "sum(p.nelement() for p in parameters) # number of parameters in total"
      ],
      "metadata": {
        "colab": {
          "base_uri": "https://localhost:8080/"
        },
        "id": "EfuI6oY5NVLa",
        "outputId": "3ce1aaca-780b-4ebe-abf0-208373a8b380"
      },
      "execution_count": 64,
      "outputs": [
        {
          "output_type": "execute_result",
          "data": {
            "text/plain": [
              "11897"
            ]
          },
          "metadata": {},
          "execution_count": 64
        }
      ]
    },
    {
      "cell_type": "code",
      "source": [
        "for p in parameters:\n",
        "  p.requires_grad = True"
      ],
      "metadata": {
        "id": "xuPncTfMdjZE"
      },
      "execution_count": 65,
      "outputs": []
    },
    {
      "cell_type": "code",
      "source": [
        "lre = torch.linspace(-3 , 0 , 1000)\n",
        "lrs = 10 ** lre"
      ],
      "metadata": {
        "id": "NwR7qPDHG269"
      },
      "execution_count": 66,
      "outputs": []
    },
    {
      "cell_type": "code",
      "source": [
        "lri = []\n",
        "lossi = []\n",
        "stepi = []"
      ],
      "metadata": {
        "id": "erufb09LXlUk"
      },
      "execution_count": 67,
      "outputs": []
    },
    {
      "cell_type": "code",
      "source": [
        "for i in range(300000):\n",
        "\n",
        "    # mini - batch\n",
        "    ix = torch.randint(0 , Xtr.shape[0] , (32 , ))\n",
        "    #forward pass\n",
        "    emb = C[Xtr[ix]] # (32, 3, 2)\n",
        "    h = torch.tanh(emb.view(-1 , 30) @ W1 + b1)\n",
        "    logits = h @ W2 + b2\n",
        "    loss = F.cross_entropy(logits , Ytr[ix])\n",
        "\n",
        "\n",
        "    #backward pass\n",
        "    for p in parameters:\n",
        "      p.grad = None\n",
        "    loss.backward()\n",
        "\n",
        "    #update\n",
        "    lr = 0.005\n",
        "    for p in parameters:\n",
        "      p.data += -lr * p.grad\n",
        "\n",
        "    #tracking\n",
        "    # lri.append(lre[i])\n",
        "    stepi.append(i)\n",
        "\n",
        "    lossi.append(loss.log().item())\n",
        "\n",
        "print(loss.item())"
      ],
      "metadata": {
        "colab": {
          "base_uri": "https://localhost:8080/"
        },
        "id": "Vo8OnA7sNqj3",
        "outputId": "63f25b92-9f79-4563-b0dc-83c7e106c734"
      },
      "execution_count": 74,
      "outputs": [
        {
          "output_type": "stream",
          "name": "stdout",
          "text": [
            "2.154757499694824\n"
          ]
        }
      ]
    },
    {
      "cell_type": "code",
      "source": [
        "plt.plot(stepi , lossi)"
      ],
      "metadata": {
        "colab": {
          "base_uri": "https://localhost:8080/",
          "height": 448
        },
        "id": "2OfodEFqzVKN",
        "outputId": "bd09b398-ed7e-4ef3-ee6b-eb414272adb6"
      },
      "execution_count": 75,
      "outputs": [
        {
          "output_type": "execute_result",
          "data": {
            "text/plain": [
              "[<matplotlib.lines.Line2D at 0x7d4f51c60d90>]"
            ]
          },
          "metadata": {},
          "execution_count": 75
        },
        {
          "output_type": "display_data",
          "data": {
            "text/plain": [
              "<Figure size 640x480 with 1 Axes>"
            ],
            "image/png": "[encoded data removed]"
          },
          "metadata": {}
        }
      ]
    },
    {
      "cell_type": "code",
      "source": [
        "emb = C[Xtr] # (32, 3, 2)\n",
        "h = torch.tanh(emb.view(-1 , 30) @ W1 + b1)\n",
        "logits = h @ W2 + b2\n",
        "loss = F.cross_entropy(logits , Ytr)\n",
        "loss"
      ],
      "metadata": {
        "colab": {
          "base_uri": "https://localhost:8080/"
        },
        "id": "BKKu_Z9yyLIr",
        "outputId": "e263a605-99eb-4383-a59c-ee29cf47c638"
      },
      "execution_count": 76,
      "outputs": [
        {
          "output_type": "execute_result",
          "data": {
            "text/plain": [
              "tensor(2.2688, grad_fn=<NllLossBackward0>)"
            ]
          },
          "metadata": {},
          "execution_count": 76
        }
      ]
    },
    {
      "cell_type": "code",
      "source": [
        "emb = C[Xdev] # (32, 3, 2)\n",
        "h = torch.tanh(emb.view(-1 , 30) @ W1 + b1)\n",
        "logits = h @ W2 + b2\n",
        "loss = F.cross_entropy(logits , Ydev)\n",
        "loss"
      ],
      "metadata": {
        "colab": {
          "base_uri": "https://localhost:8080/"
        },
        "id": "gV-tB0VUkbIQ",
        "outputId": "d8ee7afe-58be-4bc4-8be0-4a2f83037d77"
      },
      "execution_count": 77,
      "outputs": [
        {
          "output_type": "execute_result",
          "data": {
            "text/plain": [
              "tensor(2.2756, grad_fn=<NllLossBackward0>)"
            ]
          },
          "metadata": {},
          "execution_count": 77
        }
      ]
    },
    {
      "cell_type": "code",
      "source": [
        "plt.figure(figsize = (8 , 8))\n",
        "plt.scatter(C[: ,0].data , C[: ,1].data , s = 200)\n",
        "\n",
        "for i in range(27):\n",
        "  plt.text(C[i , 0].item() , C[i , 1].item() , itos[i] , ha = \"center\" , va = \"center\" , color = \"white\")\n",
        "plt.grid('minor')"
      ],
      "metadata": {
        "colab": {
          "base_uri": "https://localhost:8080/",
          "height": 676
        },
        "id": "3l9xeD9EyIRy",
        "outputId": "e1a0055c-750c-4259-eb1f-93b320cda933"
      },
      "execution_count": 78,
      "outputs": [
        {
          "output_type": "display_data",
          "data": {
            "text/plain": [
              "<Figure size 800x800 with 1 Axes>"
            ],
            "image/png": "[encoded data removed]"
          },
          "metadata": {}
        }
      ]
    },
    {
      "cell_type": "code",
      "source": [
        "#sample from the model\n",
        "\n",
        "g = torch.Generator().manual_seed(2147483647 + 10)\n",
        "\n",
        "for _ in range(20):\n",
        "\n",
        "  out = []\n",
        "  context = [0] * block_size\n",
        "\n",
        "  while True:\n",
        "    emb  = C[torch.tensor([context])]\n",
        "    h = torch.tanh(emb.view(1 , -1) @ W1 + b1)\n",
        "    logits = h @ W2 + b2\n",
        "    probs = F.softmax(logits , dim = 1)\n",
        "    ix = torch.multinomial(probs , num_samples = 1 , replacement = True , generator = g).item()\n",
        "    context = context[1:] + [ix]\n",
        "    out.append(ix)\n",
        "    if ix == 0:\n",
        "      break\n",
        "\n",
        "  print(''.join(itos[i] for i in out))\n",
        "\n"
      ],
      "metadata": {
        "colab": {
          "base_uri": "https://localhost:8080/"
        },
        "id": "KFSjsG-Ma6cK",
        "outputId": "5a84517e-6c47-4965-c9c3-06a91e8713d3"
      },
      "execution_count": 79,
      "outputs": [
        {
          "output_type": "stream",
          "name": "stdout",
          "text": [
            "mora.\n",
            "kayah.\n",
            "seel.\n",
            "nihah.\n",
            "larethan.\n",
            "brdra.\n",
            "gra.\n",
            "ched.\n",
            "eliighay.\n",
            "jelle.\n",
            "elieananar.\n",
            "kayzion.\n",
            "kamin.\n",
            "shdbergahiriel.\n",
            "kin.\n",
            "renelinnn.\n",
            "puor.\n",
            "ubelleda.\n",
            "kylynn.\n",
            "ehs.\n"
          ]
        }
      ]
    }
  ]
}